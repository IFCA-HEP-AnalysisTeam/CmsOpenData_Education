{
 "cells": [
  {
   "cell_type": "markdown",
   "metadata": {
    "slideshow": {
     "slide_type": "-"
    }
   },
   "source": [
    "![](/home/ubuntu/CmsOpenData/AnalysisDesigner/datafiles/cms.png)\n",
    " \n",
    "<p style=\"margin-right:8%; margin-left:8%; font-size:28px; font-weight: 200; line-height: 1.5em\">\n",
    "# Start an Analysis in Experimental Particle Physics (0) \n",
    "\n",
    "## Create your own NTuple from the CMS Open Data \n",
    "\n",
    "In this example you will learn: \n",
    "\n",
    "* How to create the ROOT \"tree\" structure with the information of all particles produced in each event measured in the CMS detector\n",
    "\n",
    "Let's start!\n",
    "\n",
    "In the context of the analysis collisions observed in a detector like CMS, the data structure corresponding\n",
    "to each \"event\" (i.e. to each collision) can be quite complex, as it includes information from basic detector signals to the different particles reconstructed and their measured properties. In High Energy Physics, within the ROOT framework, it is usually used this complex data structure called \"tree\" to help the data access. \n",
    "\n",
    "We will use derived [open data files from CMS](http://opendata.cern.ch/) that include many thousands of collisions. These files contain the muon and electron collections in PAT candidate format derived from the full 2010 RunB Muon ([DOI: 10.7483/OPENDATA.CMS.RJW2.QP44](http://opendata.cern.ch/record/201)) or Electron ([DOI: 10.7483/OPENDATA.CMS.HHTK.9FS2](http://opendata.cern.ch/record/202)) primary datasets. No filters are applied, apart from the list of the validated runs. \n",
    "\n",
    "The first important step is to read the original quite complex \"trees\" and make a simpler \"flat\" data structure, where we have for each collision (event) the number of different particles produced, and for each one their properties, like a very long array:\n",
    "\n",
    "** Event 1 ** (with n1 particles, m variables )\n",
    "\n",
    "variable 1: particle 1, particle 2,..., particle n1\n",
    "\n",
    "variable 2: particle 1, particle 2, ...,particle n1 \n",
    "\n",
    "...\n",
    "\n",
    "variable m:  particle 1, particle 2, ...,particle n1 \n",
    "\n",
    "\n",
    "** Event 2 ** (with n2 particles, m variables )\n",
    "\n",
    "variable 1: particle 1, particle 2,..., particle n2\n",
    "\n",
    "variable 2: particle 1, particle 2, ...,particle n2\n",
    "\n",
    "...\n",
    "\n",
    "variable m:  particle 1, particle 2, ...,particle n2 \n",
    "\n",
    "** Event X ** (with nX particles, m variables )\n",
    "\n",
    "...\n",
    "\n",
    "\n",
    "\n",
    "These simplified structures are known as \"ntuples\", and  they can be created from the original \n",
    "very complex CMS open data files using two scripts ** createTTree.py ** and ** exeCreateTTree.py **, they \n",
    "could be useful to you in the future if you want to explore further CMS open data.\n"
   ]
  },
  {
   "cell_type": "markdown",
   "metadata": {},
   "source": [
    "### How can you created new ntuples from the CMS Open Data ? \n",
    "\n",
    "You have to run the [** createTTree.py **](https://cmsopendata.ifca.es/hub/user/~/edit/AnalysisDesigner/createTTree.py) scripts, that produce the final ntuple by: \n",
    "\n",
    " * create a new .root file and a new tree to store in it. \n",
    " * declare the name of your tree variables\n",
    " * create the tree branches and associate them to the variables\n",
    " * populate the branches and fill the tree\n",
    "\n",
    "To execute the previous code you need to run [** exeCreateTTree.py **](https://cmsopendata.ifca.es/hub/user/~/edit/AnalysisDesigner/exeCreateTTree.py). In this script you must specify the complete path of your original data files and the number of total events you want to process to fill the tree: the one used in this example runs over 500.000 events. "
   ]
  },
  {
   "cell_type": "code",
   "execution_count": 1,
   "metadata": {
    "collapsed": false,
    "scrolled": false,
    "slideshow": {
     "slide_type": "-"
    }
   },
   "outputs": [
    {
     "name": "stdout",
     "output_type": "stream",
     "text": [
      "/home/aidaph/CmsOpenData/AnalysisDesigner\n"
     ]
    }
   ],
   "source": [
    "cd ~/CmsOpenData/AnalysisDesigner"
   ]
  },
  {
   "cell_type": "markdown",
   "metadata": {},
   "source": [
    "If you want to inspect the variables stored in the ROOT file mytree.root, just run the following code: "
   ]
  },
  {
   "cell_type": "code",
   "execution_count": 2,
   "metadata": {
    "collapsed": false,
    "slideshow": {
     "slide_type": "fragment"
    }
   },
   "outputs": [
    {
     "data": {
      "application/javascript": [
       "require(['codemirror/mode/clike/clike'], function(Clike) { console.log('ROOTaaS - C++ CodeMirror module loaded'); });"
      ]
     },
     "metadata": {},
     "output_type": "display_data"
    },
    {
     "data": {
      "application/javascript": [
       "IPython.CodeCell.config_defaults.highlight_modes['magic_text/x-c++src'] = {'reg':[/^%%cpp/]};"
      ]
     },
     "metadata": {},
     "output_type": "display_data"
    },
    {
     "name": "stdout",
     "output_type": "stream",
     "text": [
      "Welcome to ROOTaaS 6.06/00\n",
      "TFile**\t\tdatafiles/mytree.root\t\r\n",
      " TFile*\t\tdatafiles/mytree.root\t\r\n",
      "  KEY: TTree\tmuons;3\tmuons tree\r\n",
      "  KEY: TTree\tmuons;2\tmuons tree\r\n",
      "******************************************************************************\r\n",
      "*Tree    :muons     : muons tree                                             *\r\n",
      "*Entries :   499999 : Total =       202869504 bytes  File  Size =   74565333 *\r\n",
      "*        :          : Tree compression factor =   2.72                       *\r\n",
      "******************************************************************************\r\n",
      "*Br    0 :Muon_pt   : vector<float>                                          *\r\n",
      "*Entries :   499999 : Total  Size=   10142372 bytes  File Size  =    4827637 *\r\n",
      "*Baskets :      152 : Basket Size=    3198976 bytes  Compression=   2.10     *\r\n",
      "*............................................................................*\r\n",
      "*Br    1 :Muon_eta  : vector<float>                                          *\r\n",
      "*Entries :   499999 : Total  Size=   10142528 bytes  File Size  =    4957032 *\r\n",
      "*Baskets :      152 : Basket Size=    3198976 bytes  Compression=   2.05     *\r\n",
      "*............................................................................*\r\n",
      "*Br    2 :Muon_px   : vector<float>                                          *\r\n",
      "*Entries :   499999 : Total  Size=   10142372 bytes  File Size  =    4992719 *\r\n",
      "*Baskets :      152 : Basket Size=    3198976 bytes  Compression=   2.03     *\r\n",
      "*............................................................................*\r\n",
      "*Br    3 :Muon_py   : vector<float>                                          *\r\n",
      "*Entries :   499999 : Total  Size=   10142372 bytes  File Size  =    4994921 *\r\n",
      "*Baskets :      152 : Basket Size=    3198976 bytes  Compression=   2.03     *\r\n",
      "*............................................................................*\r\n",
      "*Br    4 :Muon_pz   : vector<float>                                          *\r\n",
      "*Entries :   499999 : Total  Size=   10142372 bytes  File Size  =    4990487 *\r\n",
      "*Baskets :      152 : Basket Size=    3198976 bytes  Compression=   2.03     *\r\n",
      "*............................................................................*\r\n",
      "*Br    5 :Muon_energy : vector<float>                                        *\r\n",
      "*Entries :   499999 : Total  Size=   10142996 bytes  File Size  =    4814661 *\r\n",
      "*Baskets :      152 : Basket Size=    3199488 bytes  Compression=   2.11     *\r\n",
      "*............................................................................*\r\n",
      "*Br    6 :Muon_isGlobalMuon : vector<int>                                    *\r\n",
      "*Entries :   499999 : Total  Size=   10143932 bytes  File Size  =    1869603 *\r\n",
      "*Baskets :      152 : Basket Size=    3200000 bytes  Compression=   5.42     *\r\n",
      "*............................................................................*\r\n",
      "*Br    7 :Muon_isTrackerMuon : vector<int>                                   *\r\n",
      "*Entries :   499999 : Total  Size=   10144088 bytes  File Size  =    1736095 *\r\n",
      "*Baskets :      152 : Basket Size=    3200512 bytes  Compression=   5.84     *\r\n",
      "*............................................................................*\r\n",
      "*Br    8 :Muon_isStandAloneMuon : vector<int>                                *\r\n",
      "*Entries :   499999 : Total  Size=   10144556 bytes  File Size  =    1800420 *\r\n",
      "*Baskets :      152 : Basket Size=    3200512 bytes  Compression=   5.63     *\r\n",
      "*............................................................................*\r\n",
      "*Br    9 :Muon_dB   : vector<float>                                          *\r\n",
      "*Entries :   499999 : Total  Size=   10142372 bytes  File Size  =    4923074 *\r\n",
      "*Baskets :      152 : Basket Size=    3198976 bytes  Compression=   2.06     *\r\n",
      "*............................................................................*\r\n",
      "*Br   10 :Muon_edB  : vector<float>                                          *\r\n",
      "*Entries :   499999 : Total  Size=   10142528 bytes  File Size  =    4652391 *\r\n",
      "*Baskets :      152 : Basket Size=    3198976 bytes  Compression=   2.18     *\r\n",
      "*............................................................................*\r\n",
      "*Br   11 :Muon_isolation_sumPt : vector<float>                               *\r\n",
      "*Entries :   499999 : Total  Size=   10144400 bytes  File Size  =    4050134 *\r\n",
      "*Baskets :      152 : Basket Size=    3200512 bytes  Compression=   2.50     *\r\n",
      "*............................................................................*\r\n",
      "*Br   12 :Muon_isolation_emEt : vector<float>                                *\r\n",
      "*Entries :   499999 : Total  Size=   10144244 bytes  File Size  =    4345809 *\r\n",
      "*Baskets :      152 : Basket Size=    3200512 bytes  Compression=   2.33     *\r\n",
      "*............................................................................*\r\n",
      "*Br   13 :Muon_isolation_hadEt : vector<float>                               *\r\n",
      "*Entries :   499999 : Total  Size=   10144400 bytes  File Size  =    3269028 *\r\n",
      "*Baskets :      152 : Basket Size=    3200512 bytes  Compression=   3.10     *\r\n",
      "*............................................................................*\r\n",
      "*Br   14 :Muon_numberOfValidHits : vector<int>                               *\r\n",
      "*Entries :   499999 : Total  Size=   10144830 bytes  File Size  =    2531857 *\r\n",
      "*Baskets :      153 : Basket Size=    3201024 bytes  Compression=   4.01     *\r\n",
      "*............................................................................*\r\n",
      "*Br   15 :Muon_normChi2 : vector<float>                                      *\r\n",
      "*Entries :   499999 : Total  Size=   10143308 bytes  File Size  =    4071423 *\r\n",
      "*Baskets :      152 : Basket Size=    3199488 bytes  Compression=   2.49     *\r\n",
      "*............................................................................*\r\n",
      "*Br   16 :Muon_charge : vector<int>                                          *\r\n",
      "*Entries :   499999 : Total  Size=   10142996 bytes  File Size  =    2004278 *\r\n",
      "*Baskets :      152 : Basket Size=    3199488 bytes  Compression=   5.06     *\r\n",
      "*............................................................................*\r\n",
      "*Br   17 :Muon_distance : vector<float>                                      *\r\n",
      "*Entries :   499999 : Total  Size=   10143308 bytes  File Size  =    4675736 *\r\n",
      "*Baskets :      152 : Basket Size=    3199488 bytes  Compression=   2.17     *\r\n",
      "*............................................................................*\r\n",
      "*Br   18 :Muon_numOfMatches : vector<int>                                    *\r\n",
      "*Entries :   499999 : Total  Size=   10143932 bytes  File Size  =    2343140 *\r\n",
      "*Baskets :      152 : Basket Size=    3200000 bytes  Compression=   4.33     *\r\n",
      "*............................................................................*\r\n",
      "*Br   19 :Muon_NValidHitsSATk : vector<int>                                  *\r\n",
      "*Entries :   499999 : Total  Size=   10144244 bytes  File Size  =    2686008 *\r\n",
      "*Baskets :      152 : Basket Size=    3200512 bytes  Compression=   3.78     *\r\n",
      "*............................................................................*\r\n"
     ]
    }
   ],
   "source": [
    "# Import ROOT (ROOT is a analysis package used to handle \n",
    "# the tree files, but also histograms, etc.)\n",
    "import ROOT\n",
    "\n",
    "# Get the root file that contains the histograms for all muons: histos.root.\n",
    "Hfile=ROOT.TFile(\"datafiles/mytree.root\", \"read\")\n",
    "\n",
    "# List the histograms stored in the file\n",
    "Hfile.ls()\n",
    "\n",
    "Hfile.muons.Print()"
   ]
  },
  {
   "cell_type": "code",
   "execution_count": null,
   "metadata": {
    "collapsed": true
   },
   "outputs": [],
   "source": []
  }
 ],
 "metadata": {
  "celltoolbar": "Slideshow",
  "kernelspec": {
   "display_name": "PyROOT (Python 2)",
   "language": "python",
   "name": "root"
  },
  "language_info": {
   "codemirror_mode": {
    "name": "ipython",
    "version": 2
   },
   "file_extension": ".py",
   "mimetype": "text/x-python",
   "name": "python",
   "nbconvert_exporter": "python",
   "pygments_lexer": "ipython2",
   "version": "2.7.12"
  }
 },
 "nbformat": 4,
 "nbformat_minor": 0
}
